{
 "cells": [
  {
   "cell_type": "markdown",
   "id": "cd335f40",
   "metadata": {},
   "source": [
    "RAG Pipeline from Scratch Using OLlama Python & Llama2"
   ]
  },
  {
   "cell_type": "code",
   "execution_count": 16,
   "id": "0d93c9e5",
   "metadata": {},
   "outputs": [],
   "source": [
    "corpus_of_documents = [\n",
    "    \"Take a leisurely walk in the park and enjoy the fresh air.\",\n",
    "    \"Visit a local museum and discover something new.\",\n",
    "    \"Attend a live music concert and feel the rhythm.\",\n",
    "    \"Go for a hike and admire the natural scenery.\",\n",
    "    \"Have a picnic with friends and share some laughs.\",\n",
    "    \"Explore a new cuisine by dining at an ethnic restaurant.\",\n",
    "    \"Take a yoga class and stretch your body and mind.\",\n",
    "    \"Join a local sports league and enjoy some friendly competition.\",\n",
    "    \"Attend a workshop or lecture on a topic you're interested in.\",\n",
    "    \"Visit an amusement park and ride the roller coasters.\"\n",
    "]"
   ]
  },
  {
   "cell_type": "code",
   "execution_count": 13,
   "id": "969d373a",
   "metadata": {},
   "outputs": [
    {
     "name": "stdout",
     "output_type": "stream",
     "text": [
      "['i', 'am', 'iraninan', 'and', 'i', 'live', 'in', 'usa']\n",
      "['iran', 'is', 'the', 'country', 'for', 'the', 'iraninan', 'and', 'erveryone']\n"
     ]
    }
   ],
   "source": [
    "user_query=\"i am iraninan and i live in USA\"\n",
    "document=\"iran is the country for the iraninan and erveryone\"\n",
    "from collections import Counter\n",
    "import math\n",
    "query_tokens=user_query.lower().split(\" \")\n",
    "document_tokens=document.lower().split(\" \")\n",
    "print(query_tokens)\n",
    "print(document_tokens)\n"
   ]
  },
  {
   "cell_type": "code",
   "execution_count": 14,
   "id": "a659bb32",
   "metadata": {},
   "outputs": [
    {
     "name": "stdout",
     "output_type": "stream",
     "text": [
      "Counter({'i': 2, 'am': 1, 'iraninan': 1, 'and': 1, 'live': 1, 'in': 1, 'usa': 1})\n",
      "Counter({'the': 2, 'iran': 1, 'is': 1, 'country': 1, 'for': 1, 'iraninan': 1, 'and': 1, 'erveryone': 1})\n"
     ]
    }
   ],
   "source": [
    "query_counter=Counter(query_tokens)\n",
    "document_counter=Counter(document_tokens)\n",
    "print(query_counter)\n",
    "print(document_counter)"
   ]
  },
  {
   "cell_type": "code",
   "execution_count": null,
   "id": "df6abe48",
   "metadata": {},
   "outputs": [
    {
     "name": "stdout",
     "output_type": "stream",
     "text": [
      "i 2\n",
      "am 1\n",
      "iraninan 1\n",
      "and 1\n",
      "live 1\n",
      "in 1\n",
      "usa 1\n"
     ]
    }
   ],
   "source": [
    "for token in query_counter.keys():\n",
    "    print(token, query_counter[token])"
   ]
  },
  {
   "cell_type": "code",
   "execution_count": 27,
   "id": "a5df53cc",
   "metadata": {},
   "outputs": [
    {
     "data": {
      "text/plain": [
       "[2, 1, 1, 1, 1, 1, 1]"
      ]
     },
     "execution_count": 27,
     "metadata": {},
     "output_type": "execute_result"
    }
   ],
   "source": [
    "# sentence vector based on frequency\n",
    "lst=[]\n",
    "for token in query_counter.keys():\n",
    "    lst.append (query_counter[token])\n",
    "\n",
    "lst"
   ]
  },
  {
   "cell_type": "code",
   "execution_count": 29,
   "id": "27cf170c",
   "metadata": {},
   "outputs": [
    {
     "name": "stdout",
     "output_type": "stream",
     "text": [
      "iraninan\n",
      "and\n"
     ]
    }
   ],
   "source": [
    "for tokens in query_counter.keys() & document_counter.keys():\n",
    "    print(tokens)"
   ]
  },
  {
   "cell_type": "code",
   "execution_count": null,
   "id": "fd738587",
   "metadata": {},
   "outputs": [
    {
     "data": {
      "text/plain": [
       "[1, 1]"
      ]
     },
     "execution_count": 32,
     "metadata": {},
     "output_type": "execute_result"
    }
   ],
   "source": [
    "# dot product in vector for similarity formula\n",
    "mylist=[]\n",
    "for tokens in query_counter.keys() & document_counter.keys():\n",
    "    mylist.append(query_counter[tokens]*document_counter[tokens])\n",
    "mylist"
   ]
  },
  {
   "cell_type": "code",
   "execution_count": 33,
   "id": "3cdcd303",
   "metadata": {},
   "outputs": [
    {
     "data": {
      "text/plain": [
       "2"
      ]
     },
     "execution_count": 33,
     "metadata": {},
     "output_type": "execute_result"
    }
   ],
   "source": [
    "sum(mylist)"
   ]
  },
  {
   "cell_type": "code",
   "execution_count": 37,
   "id": "ef052301",
   "metadata": {},
   "outputs": [
    {
     "data": {
      "text/plain": [
       "3.3166247903554"
      ]
     },
     "execution_count": 37,
     "metadata": {},
     "output_type": "execute_result"
    }
   ],
   "source": [
    "document_magnitude = math.sqrt(sum(document_counter[token] ** 2 for token in document_counter))\n",
    "document_magnitude"
   ]
  },
  {
   "cell_type": "code",
   "execution_count": 40,
   "id": "c2640536",
   "metadata": {},
   "outputs": [
    {
     "data": {
      "text/plain": [
       "3.1622776601683795"
      ]
     },
     "execution_count": 40,
     "metadata": {},
     "output_type": "execute_result"
    }
   ],
   "source": [
    "query_magnitude = math.sqrt(sum(query_counter[token] ** 2 for token in query_counter))\n",
    "query_magnitude"
   ]
  },
  {
   "cell_type": "code",
   "execution_count": 41,
   "id": "8ce3a485",
   "metadata": {},
   "outputs": [],
   "source": [
    "dot_prod=sum(mylist)"
   ]
  },
  {
   "cell_type": "code",
   "execution_count": 43,
   "id": "53afee51",
   "metadata": {},
   "outputs": [
    {
     "data": {
      "text/plain": [
       "0.19069251784911848"
      ]
     },
     "execution_count": 43,
     "metadata": {},
     "output_type": "execute_result"
    }
   ],
   "source": [
    "similarity=(dot_prod)/(query_magnitude*document_magnitude)\n",
    "similarity"
   ]
  },
  {
   "cell_type": "code",
   "execution_count": null,
   "id": "36fcc3bb",
   "metadata": {},
   "outputs": [],
   "source": [
    "user_query=\"is yoga good for health\"\n",
    "document=\"yoga is very good for living healthy lifesytle.\""
   ]
  },
  {
   "cell_type": "code",
   "execution_count": 44,
   "id": "5bc70866",
   "metadata": {},
   "outputs": [],
   "source": [
    "def cosine_similarity(query, document):\n",
    "    # Tokenize and convert to lowercase\n",
    "    query_tokens = query.lower().split(\" \")\n",
    "    document_tokens = document.lower().split(\" \")\n",
    "\n",
    "    # Create Counters for query and document\n",
    "    query_counter = Counter(query_tokens)\n",
    "    document_counter = Counter(document_tokens)\n",
    "\n",
    "    # Calculate dot product\n",
    "    dot_product = sum(query_counter[token] * document_counter[token] for token in query_counter.keys() & document_counter.keys())\n",
    "\n",
    "    # Calculate magnitudes\n",
    "    query_magnitude = math.sqrt(sum(query_counter[token] ** 2 for token in query_counter))\n",
    "    document_magnitude = math.sqrt(sum(document_counter[token] ** 2 for token in document_counter))\n",
    "\n",
    "    # Calculate cosine similarity\n",
    "    similarity = dot_product / (query_magnitude * document_magnitude) if query_magnitude * document_magnitude != 0 else 0\n",
    "\n",
    "    return similarity"
   ]
  },
  {
   "cell_type": "code",
   "execution_count": 45,
   "id": "e8fe41fe",
   "metadata": {},
   "outputs": [
    {
     "data": {
      "text/plain": [
       "0.19069251784911848"
      ]
     },
     "execution_count": 45,
     "metadata": {},
     "output_type": "execute_result"
    }
   ],
   "source": [
    "\n",
    "cosine_similarity(user_query,document)"
   ]
  },
  {
   "cell_type": "code",
   "execution_count": 46,
   "id": "84d0c3a3",
   "metadata": {},
   "outputs": [],
   "source": [
    "def return_response(query, corpus):\n",
    "    similarities = []\n",
    "    for doc in corpus:\n",
    "        similarity = cosine_similarity(query, doc)\n",
    "        similarities.append(similarity)\n",
    "    return corpus_of_documents[similarities.index(max(similarities))]"
   ]
  },
  {
   "cell_type": "code",
   "execution_count": 50,
   "id": "ab610df3",
   "metadata": {},
   "outputs": [
    {
     "data": {
      "text/plain": [
       "'Take a leisurely walk in the park and enjoy the fresh air.'"
      ]
     },
     "execution_count": 50,
     "metadata": {},
     "output_type": "execute_result"
    }
   ],
   "source": [
    "user_input=\"i like fresh air.\"\n",
    "relevant_document=return_response(user_input,corpus_of_documents)\n",
    "relevant_document"
   ]
  },
  {
   "cell_type": "code",
   "execution_count": 56,
   "id": "f121e9e8",
   "metadata": {},
   "outputs": [
    {
     "name": "stdout",
     "output_type": "stream",
     "text": [
      "🤖  Great! Based on your input, I recommend taking a yoga class to help you relax and stretch your body and mind. It's a great way to reduce stress and improve your overall well-being.\n"
     ]
    }
   ],
   "source": [
    "import requests\n",
    "import json\n",
    "\n",
    "# Define prompt template\n",
    "prompt = \"\"\"\n",
    "You are a bot that makes recommendations for activities. You answer in very short sentences and do not include extra information.\n",
    "This is the recommended activity: {relevant_document}\n",
    "The user input is: {user_input}\n",
    "Compile a recommendation to the user based on the recommended activity and the user input.\n",
    "\"\"\"\n",
    "\n",
    "# LLaMA2 (Ollama) endpoint\n",
    "url = 'http://localhost:11434/api/generate'\n",
    "\n",
    "# Format prompt with actual values\n",
    "data = {\n",
    "    \"model\": \"llama2\",\n",
    "    \"prompt\": prompt.format(user_input=user_input, relevant_document=relevant_document)\n",
    "}\n",
    "\n",
    "headers = {'Content-Type': 'application/json'}\n",
    "\n",
    "# Collect full LLM response\n",
    "full_response = []\n",
    "\n",
    "try:\n",
    "    response = requests.post(url, data=json.dumps(data), headers=headers, stream=True)\n",
    "    for line in response.iter_lines():\n",
    "        if line:\n",
    "            decoded_line = json.loads(line.decode('utf-8'))\n",
    "            # Append response only if key exists\n",
    "            if 'response' in decoded_line:\n",
    "                full_response.append(decoded_line['response'])\n",
    "            elif 'error' in decoded_line:\n",
    "                print(\"❌ LLaMA2 Error:\", decoded_line['error'])\n",
    "                break\n",
    "            else:\n",
    "                print(\"⚠️ Unexpected response format:\", decoded_line)\n",
    "finally:\n",
    "    response.close()\n",
    "\n",
    "# Print the full response\n",
    "print(\"🤖\", ''.join(full_response))\n"
   ]
  }
 ],
 "metadata": {
  "kernelspec": {
   "display_name": "venv",
   "language": "python",
   "name": "python3"
  },
  "language_info": {
   "codemirror_mode": {
    "name": "ipython",
    "version": 3
   },
   "file_extension": ".py",
   "mimetype": "text/x-python",
   "name": "python",
   "nbconvert_exporter": "python",
   "pygments_lexer": "ipython3",
   "version": "3.13.3"
  }
 },
 "nbformat": 4,
 "nbformat_minor": 5
}
